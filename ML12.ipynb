{
 "cells": [
  {
   "cell_type": "markdown",
   "id": "e1146d3d",
   "metadata": {},
   "source": [
    " TASK 1\n",
    "1. Use SGD regressor on datasets. Use food.csv data set and implement SGD regressor, print the learning graph and accuracy of the model. "
   ]
  },
  {
   "cell_type": "code",
   "execution_count": 1,
   "id": "21e2cba8",
   "metadata": {},
   "outputs": [
    {
     "name": "stdout",
     "output_type": "stream",
     "text": [
      "Mean Squared Error: 56517.4880073163\n",
      "R-squared Score: 0.33137559527091787\n"
     ]
    },
    {
     "data": {
      "image/png": "[encoded data removed]",
      "text/plain": [
       "<Figure size 640x480 with 1 Axes>"
      ]
     },
     "metadata": {},
     "output_type": "display_data"
    }
   ],
   "source": [
    "import pandas as pd\n",
    "import numpy as np\n",
    "import matplotlib.pyplot as plt\n",
    "from sklearn.model_selection import train_test_split\n",
    "from sklearn.linear_model import SGDRegressor\n",
    "from sklearn.preprocessing import StandardScaler\n",
    "from sklearn.metrics import mean_squared_error\n",
    "from sklearn.preprocessing import LabelEncoder\n",
    "from sklearn.metrics import r2_score\n",
    "\n",
    "# Load the dataset (assuming it's in the same directory as the script)\n",
    "data = pd.read_csv(\"food.csv\")\n",
    "\n",
    "# Assume that 'target_column' is the column you want to predict\n",
    "target_column = \"score\"\n",
    "X = data.drop(target_column, axis=1)\n",
    "y = data[target_column]\n",
    "\n",
    "# Label encode 'title' and 'id' columns\n",
    "le = LabelEncoder()\n",
    "X['title'] = le.fit_transform(X['title'])\n",
    "X['id'] = le.fit_transform(X['id'])\n",
    "X['url'] = le.fit_transform(X['url'])\n",
    "X['body'] = le.fit_transform(X['body'])\n",
    "X['timestamp'] = le.fit_transform(X['timestamp'])\n",
    "\n",
    "# Split the data into training and testing sets\n",
    "X_train, X_test, y_train, y_test = train_test_split(X, y, test_size=0.2, random_state=42)\n",
    "\n",
    "# Feature scaling (important for SGD)\n",
    "scaler = StandardScaler()\n",
    "X_train_scaled = scaler.fit_transform(X_train)\n",
    "X_test_scaled = scaler.transform(X_test)\n",
    "\n",
    "# Create an SGDRegressor instance\n",
    "regressor = SGDRegressor(max_iter=1000, tol=1e-3, random_state=42)\n",
    "\n",
    "# Manually capture the loss values during training\n",
    "loss_values = []\n",
    "for epoch in range(1000):  # Adjust the number of epochs as needed\n",
    "    regressor.partial_fit(X_train_scaled, y_train)\n",
    "    y_pred = regressor.predict(X_train_scaled)\n",
    "    mse = mean_squared_error(y_train, y_pred)\n",
    "    loss_values.append(mse)\n",
    "\n",
    "# Predict on the test set\n",
    "y_pred = regressor.predict(X_test_scaled)\n",
    "\n",
    "# Calculate and print the Mean Squared Error (MSE) as a measure of accuracy\n",
    "mse = mean_squared_error(y_test, y_pred)\n",
    "print(\"Mean Squared Error:\", mse)\n",
    "\n",
    "# Calculate R-squared score\n",
    "score = r2_score(y_test, y_pred)\n",
    "print(\"R-squared Score:\", score)\n",
    "\n",
    "# Plot the learning graph\n",
    "plt.plot(loss_values)\n",
    "plt.title(\"SGD Regressor Learning Curve\")\n",
    "plt.xlabel(\"Number of Iterations\")\n",
    "plt.ylabel(\"Loss\")\n",
    "plt.show()\n"
   ]
  },
  {
   "cell_type": "markdown",
   "id": "615fdd66",
   "metadata": {},
   "source": [
    " TASK 2 To learn how to handle descriptive categorical variable in Linear Regression, develop the model as described below, (a) Load flight.csv data set. (b) Apply pre-processing on data set. (c) Encode categorical features into numerical values. (d) Apply linear regression model from sklearn library. (e) Predict the delay of flight departure. \n"
   ]
  },
  {
   "cell_type": "code",
   "execution_count": 2,
   "id": "6f248bfc",
   "metadata": {},
   "outputs": [
    {
     "data": {
      "text/html": [
       "<div>\n",
       "<style scoped>\n",
       "    .dataframe tbody tr th:only-of-type {\n",
       "        vertical-align: middle;\n",
       "    }\n",
       "\n",
       "    .dataframe tbody tr th {\n",
       "        vertical-align: top;\n",
       "    }\n",
       "\n",
       "    .dataframe thead th {\n",
       "        text-align: right;\n",
       "    }\n",
       "</style>\n",
       "<table border=\"1\" class=\"dataframe\">\n",
       "  <thead>\n",
       "    <tr style=\"text-align: right;\">\n",
       "      <th></th>\n",
       "      <th>UniqueCarrier</th>\n",
       "      <th>Origin</th>\n",
       "      <th>Distance</th>\n",
       "      <th>CRSDepTime</th>\n",
       "      <th>DepDelay</th>\n",
       "    </tr>\n",
       "  </thead>\n",
       "  <tbody>\n",
       "    <tr>\n",
       "      <th>0</th>\n",
       "      <td>AA</td>\n",
       "      <td>JFK</td>\n",
       "      <td>2353</td>\n",
       "      <td>1003</td>\n",
       "      <td>-2</td>\n",
       "    </tr>\n",
       "    <tr>\n",
       "      <th>1</th>\n",
       "      <td>DL</td>\n",
       "      <td>JFK</td>\n",
       "      <td>4567</td>\n",
       "      <td>356</td>\n",
       "      <td>45</td>\n",
       "    </tr>\n",
       "    <tr>\n",
       "      <th>2</th>\n",
       "      <td>WN</td>\n",
       "      <td>JFK</td>\n",
       "      <td>344</td>\n",
       "      <td>383</td>\n",
       "      <td>-3</td>\n",
       "    </tr>\n",
       "    <tr>\n",
       "      <th>3</th>\n",
       "      <td>DL</td>\n",
       "      <td>DFW</td>\n",
       "      <td>317</td>\n",
       "      <td>2298</td>\n",
       "      <td>-5</td>\n",
       "    </tr>\n",
       "    <tr>\n",
       "      <th>4</th>\n",
       "      <td>B6</td>\n",
       "      <td>ATL</td>\n",
       "      <td>1905</td>\n",
       "      <td>1839</td>\n",
       "      <td>45</td>\n",
       "    </tr>\n",
       "  </tbody>\n",
       "</table>\n",
       "</div>"
      ],
      "text/plain": [
       "  UniqueCarrier Origin  Distance  CRSDepTime  DepDelay\n",
       "0            AA    JFK      2353        1003        -2\n",
       "1            DL    JFK      4567         356        45\n",
       "2            WN    JFK       344         383        -3\n",
       "3            DL    DFW       317        2298        -5\n",
       "4            B6    ATL      1905        1839        45"
      ]
     },
     "execution_count": 2,
     "metadata": {},
     "output_type": "execute_result"
    }
   ],
   "source": [
    "import pandas as pd\n",
    "from sklearn.model_selection import train_test_split\n",
    "from sklearn.linear_model import LinearRegression\n",
    "from sklearn.preprocessing import OneHotEncoder, StandardScaler\n",
    "from sklearn.compose import ColumnTransformer\n",
    "from sklearn.pipeline import Pipeline\n",
    "\n",
    "# (a) Load flight.csv data set\n",
    "df = pd.read_csv(\"flight.csv\")\n",
    "df.head()"
   ]
  },
  {
   "cell_type": "code",
   "execution_count": 3,
   "id": "d248f415",
   "metadata": {},
   "outputs": [
    {
     "name": "stdout",
     "output_type": "stream",
     "text": [
      "UniqueCarrier    0\n",
      "Origin           0\n",
      "Distance         0\n",
      "CRSDepTime       0\n",
      "DepDelay         0\n",
      "dtype: int64\n"
     ]
    }
   ],
   "source": [
    "# (b) Apply pre-processing on data set\n",
    "null_values = df.isnull().sum()\n",
    "print(null_values)\n"
   ]
  },
  {
   "cell_type": "code",
   "execution_count": 4,
   "id": "cd147ca0",
   "metadata": {},
   "outputs": [
    {
     "name": "stdout",
     "output_type": "stream",
     "text": [
      "Mean Squared Error: 653.07859743293\n"
     ]
    }
   ],
   "source": [
    "import pandas as pd\n",
    "from sklearn.model_selection import train_test_split\n",
    "from sklearn.linear_model import LinearRegression\n",
    "from sklearn.preprocessing import OneHotEncoder\n",
    "from sklearn.compose import ColumnTransformer\n",
    "from sklearn.pipeline import Pipeline\n",
    "from sklearn.metrics import mean_squared_error\n",
    "\n",
    "# (a) Load flight.csv data set\n",
    "data = pd.read_csv(\"flight.csv\")\n",
    "\n",
    "# (b) Apply pre-processing on the data set\n",
    "# Assuming 'DepDelay' is the target column to predict\n",
    "target_column = \"DepDelay\"\n",
    "X = data.drop(target_column, axis=1)\n",
    "y = data[target_column]\n",
    "\n",
    "# Assume 'UniqueCarrier' and 'Origin' are categorical features\n",
    "categorical_features = ['UniqueCarrier', 'Origin']\n",
    "X_categorical = X[categorical_features]\n",
    "X_numerical = X.drop(categorical_features, axis=1)\n",
    "\n",
    "# (c) Encode categorical features into numerical values\n",
    "# Use OneHotEncoder for encoding categorical variables\n",
    "preprocessor = ColumnTransformer(\n",
    "    transformers=[\n",
    "        ('cat', OneHotEncoder(), categorical_features)\n",
    "    ],\n",
    "    remainder='passthrough'\n",
    ")\n",
    "\n",
    "# (d) Apply linear regression model from sklearn library\n",
    "# Create a pipeline with preprocessing and linear regression\n",
    "model = Pipeline([\n",
    "    ('preprocessor', preprocessor),\n",
    "    ('regressor', LinearRegression())\n",
    "])\n",
    "\n",
    "# (e) Split the data into training and testing sets\n",
    "X_train, X_test, y_train, y_test = train_test_split(X, y, test_size=0.2, random_state=42)\n",
    "\n",
    "# Fit the model on the training data\n",
    "model.fit(X_train, y_train)\n",
    "\n",
    "# Predict the delay of flight departure on the test set\n",
    "y_pred = model.predict(X_test)\n",
    "\n",
    "# Evaluate the model\n",
    "mse = mean_squared_error(y_test, y_pred)\n",
    "print(\"Mean Squared Error:\", mse)\n"
   ]
  },
  {
   "cell_type": "code",
   "execution_count": 5,
   "id": "61e2fab6",
   "metadata": {},
   "outputs": [
    {
     "name": "stdout",
     "output_type": "stream",
     "text": [
      "UniqueCarrier    0\n",
      "Origin           0\n",
      "Distance         0\n",
      "CRSDepTime       0\n",
      "DepDelay         0\n",
      "dtype: int64\n"
     ]
    }
   ],
   "source": [
    "# (b) Apply pre-processing on data set\n",
    "null_values = df.isnull().sum()\n",
    "print(null_values)\n",
    "\n"
   ]
  },
  {
   "cell_type": "code",
   "execution_count": 6,
   "id": "10bb556e",
   "metadata": {},
   "outputs": [
    {
     "data": {
      "image/png": "[encoded data removed]",
      "text/plain": [
       "<Figure size 640x480 with 1 Axes>"
      ]
     },
     "metadata": {},
     "output_type": "display_data"
    }
   ],
   "source": [
    "import matplotlib.pyplot as plt\n",
    "\n",
    "plt.scatter(y_test, y_pred)\n",
    "plt.xlabel(\"Actual Values\")\n",
    "plt.ylabel(\"Predicted Values\")\n",
    "plt.title(\"Actual vs. Predicted Values\")\n",
    "plt.show()"
   ]
  },
  {
   "cell_type": "markdown",
   "id": "20a961d0",
   "metadata": {},
   "source": [
    "TASK\n",
    "3. To learn how to handle continues target variable in Linear Regression Model, Read the following example and develop the proper model. The ALCustomers.csv data contains data of airline customer. The main purpose of this dataset is to predict whether a future customer would be satisfied with their service given the details of the other parameters values. Also the airlines need to know on which aspect of the services offered by them have to be emphasized more to generate more satisfied customers. (a) Develop a prediction model that predict that either customer would be satisfy with the current services or not. (b) Predict the factors (e.g. descriptive variables) that need improvements to increase customer satisfaction rate. \n"
   ]
  },
  {
   "cell_type": "code",
   "execution_count": 13,
   "id": "d87f606e",
   "metadata": {},
   "outputs": [
    {
     "name": "stdout",
     "output_type": "stream",
     "text": [
      "Accuracy: 0.8787835041624561\n",
      "\n",
      "Confusion Matrix:\n",
      "[[10626  1087]\n",
      " [ 1432  7636]]\n",
      "\n",
      "Classification Report:\n",
      "                         precision    recall  f1-score   support\n",
      "\n",
      "neutral or dissatisfied       0.88      0.91      0.89     11713\n",
      "              satisfied       0.88      0.84      0.86      9068\n",
      "\n",
      "               accuracy                           0.88     20781\n",
      "              macro avg       0.88      0.87      0.88     20781\n",
      "           weighted avg       0.88      0.88      0.88     20781\n",
      "\n"
     ]
    }
   ],
   "source": [
    "import pandas as pd\n",
    "from sklearn.model_selection import train_test_split\n",
    "from sklearn.linear_model import LogisticRegression\n",
    "from sklearn.impute import SimpleImputer\n",
    "from sklearn.preprocessing import StandardScaler, OneHotEncoder\n",
    "from sklearn.compose import ColumnTransformer\n",
    "from sklearn.pipeline import Pipeline\n",
    "from sklearn.metrics import accuracy_score, classification_report, confusion_matrix\n",
    "\n",
    "# Load the dataset\n",
    "data = pd.read_csv(\"Alcustomer.csv\")\n",
    "\n",
    "# Assume 'satisfaction' is the target variable\n",
    "target_column = \"satisfaction\"\n",
    "X = data.drop(target_column, axis=1)\n",
    "y = data[target_column]\n",
    "\n",
    "# Split the data into training and testing sets\n",
    "X_train, X_test, y_train, y_test = train_test_split(X, y, test_size=0.2, random_state=42)\n",
    "\n",
    "# Define numerical and categorical features\n",
    "numeric_features = X.select_dtypes(include=['int64', 'float64']).columns\n",
    "categorical_features = X.select_dtypes(include=['object']).columns\n",
    "\n",
    "# Create a preprocessor using ColumnTransformer\n",
    "preprocessor = ColumnTransformer(\n",
    "    transformers=[\n",
    "        ('num', StandardScaler(), numeric_features),\n",
    "        ('cat', OneHotEncoder(), categorical_features)\n",
    "    ],\n",
    "    remainder='passthrough'\n",
    ")\n",
    "\n",
    "# Create a Logistic Regression model pipeline with imputation\n",
    "model = Pipeline([\n",
    "    ('preprocessor', preprocessor),\n",
    "    ('imputer', SimpleImputer(strategy='mean')),  # Choose imputation strategy\n",
    "    ('classifier', LogisticRegression(random_state=42))\n",
    "])\n",
    "\n",
    "# Fit the model on the training data\n",
    "model.fit(X_train, y_train)\n",
    "\n",
    "# Predict on the test set\n",
    "y_pred = model.predict(X_test)\n",
    "\n",
    "# Evaluate the model\n",
    "accuracy = accuracy_score(y_test, y_pred)\n",
    "conf_matrix = confusion_matrix(y_test, y_pred)\n",
    "classification_rep = classification_report(y_test, y_pred)\n",
    "\n",
    "print(\"Accuracy:\", accuracy)\n",
    "print(\"\\nConfusion Matrix:\")\n",
    "print(conf_matrix)\n",
    "print(\"\\nClassification Report:\")\n",
    "print(classification_rep)\n",
    "# Get feature names after one-hot encoding (if applicable)\n",
    "feature_names = X.columns.tolist()\n"
   ]
  },
  {
   "cell_type": "code",
   "execution_count": 15,
   "id": "07867de3",
   "metadata": {},
   "outputs": [
    {
     "name": "stdout",
     "output_type": "stream",
     "text": [
      "Feature Coefficients are:\n",
      "Arrival Delay in Minutes: -1.0004768976281235\n",
      "Departure Delay in Minutes: 0.9959136439275648\n",
      "Departure/Arrival time convenient: 0.838390860400836\n",
      "Age: 0.5106502210803967\n",
      "Inflight entertainment: 0.4133585750484487\n",
      "Food and drink: 0.3992164279258385\n",
      "Checkin service: -0.3919740379466015\n",
      "Online boarding: 0.33633740475028717\n",
      "Leg room service: 0.29337922639568154\n",
      "Class: -0.20239096805719684\n",
      "Baggage handling: 0.1990962498487794\n",
      "Type of Travel: -0.1834439934274642\n",
      "id: -0.17206442719037915\n",
      "Seat comfort: 0.16586650286163512\n",
      "On-board service: 0.1520022783910496\n",
      "Gender: -0.12299526063452654\n",
      "Ease of Online booking: 0.1006570848181955\n",
      "Gate location: 0.047369835402040164\n",
      "Flight Distance: 0.03585867954137017\n",
      "Inflight service: -0.02815652584463328\n",
      "Inflight wifi service: -0.024982707555498543\n",
      "Cleanliness: 0.023593272144182557\n",
      "Unnamed: 0: -0.021120894227059744\n",
      "Customer Type: -0.0069544649467294115\n"
     ]
    }
   ],
   "source": [
    "# Get coefficients and their corresponding features\n",
    "coefficients = model.named_steps['classifier'].coef_[0]\n",
    "\n",
    "# Combine feature names and coefficients\n",
    "feature_coefficients = list(zip(feature_names, coefficients))\n",
    "\n",
    "# Sort features by their coefficients\n",
    "feature_coefficients.sort(key=lambda x: abs(x[1]), reverse=True)\n",
    "\n",
    "# Display feature coefficients\n",
    "print(\"Feature Coefficients are:\")\n",
    "for feature, coef in feature_coefficients:\n",
    "    print(f\"{feature}: {coef}\")\n"
   ]
  }
 ],
 "metadata": {
  "kernelspec": {
   "display_name": "Python 3",
   "language": "python",
   "name": "python3"
  },
  "language_info": {
   "codemirror_mode": {
    "name": "ipython",
    "version": 3
   },
   "file_extension": ".py",
   "mimetype": "text/x-python",
   "name": "python",
   "nbconvert_exporter": "python",
   "pygments_lexer": "ipython3",
   "version": "3.11.7"
  }
 },
 "nbformat": 4,
 "nbformat_minor": 5
}
